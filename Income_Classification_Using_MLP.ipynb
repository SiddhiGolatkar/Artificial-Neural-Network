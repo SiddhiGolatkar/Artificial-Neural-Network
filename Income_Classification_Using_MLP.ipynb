{
 "cells": [
  {
   "cell_type": "markdown",
   "metadata": {},
   "source": [
    "#### Problem Statement"
   ]
  },
  {
   "cell_type": "markdown",
   "metadata": {},
   "source": [
    "##### Whether a person makes more than 50K a year or not."
   ]
  },
  {
   "cell_type": "markdown",
   "metadata": {},
   "source": [
    "### Dataset Source\n",
    "\n",
    "Source - http://archive.ics.uci.edu/ml/datasets/Adult\n"
   ]
  },
  {
   "cell_type": "markdown",
   "metadata": {},
   "source": [
    "### Source:\n",
    "\n",
    "#### Donor:\n",
    "\n",
    "Ronny Kohavi and Barry Becker\n",
    "<br>Data Mining and Visualization\n",
    "<br>Silicon Graphics.\n",
    "<br>e-mail: ronnyk '@' live.com for questions."
   ]
  },
  {
   "cell_type": "markdown",
   "metadata": {},
   "source": [
    "#### Feature Description\n",
    "\n",
    "<br><b>age</b>: continuous.\n",
    "<br><b>workclass:</b> Private, Self-emp-not-inc, Self-emp-inc, Federal-gov, Local-gov, State-gov, Without-pay, Never-worked.\n",
    "<br><b>fnlwgt:</b> continuous.\n",
    "<br><b>education:</b> Bachelors, Some-college, 11th, HS-grad, Prof-school, Assoc-acdm, Assoc-voc, 9th, 7th-8th, 12th, Masters, 1st-4th, 10th, Doctorate, 5th-6th, Preschool.\n",
    "education-num: continuous.\n",
    "<br><b>marital-status:</b> Married-civ-spouse, Divorced, Never-married, Separated, Widowed, Married-spouse-absent, Married-AF-spouse.\n",
    "<br><b>occupation:</b> Tech-support, Craft-repair, Other-service, Sales, Exec-managerial, Prof-specialty, Handlers-cleaners, Machine-op-inspct, Adm-clerical, Farming-fishing, Transport-moving, Priv-house-serv, Protective-serv, Armed-Forces.\n",
    "<br><b>relationship:</b> Wife, Own-child, Husband, Not-in-family, Other-relative, Unmarried.\n",
    "<br><b>race:</b> White, Asian-Pac-Islander, Amer-Indian-Eskimo, Other, Black.\n",
    "<br><b>sex:</b> Female, Male.\n",
    "<br><b>capital-gain:</b> continuous.\n",
    "<br><b>capital-loss:</b> continuous.\n",
    "<br><b>hours-per-week:</b> continuous.\n",
    "<br><b>native-country:</b> United-States, Cambodia, England, Puerto-Rico, Canada, Germany, Outlying-US(Guam-USVI-etc), India, Japan, Greece, South, China, Cuba, Iran, Honduras, Philippines, Italy, Poland, Jamaica, Vietnam, Mexico, Portugal, Ireland, France, Dominican-Republic, Laos, Ecuador, Taiwan, Haiti, Columbia, Hungary, Guatemala, Nicaragua, Scotland, Thailand, Yugoslavia, El-Salvador, Trinadad&Tobago, Peru, Hong, Holand-Netherlands."
   ]
  },
  {
   "cell_type": "markdown",
   "metadata": {},
   "source": [
    "There are two separate datasets in this activity, one for train and another for test, please use both of them and proceed\n",
    "with your lab activity."
   ]
  },
  {
   "cell_type": "markdown",
   "metadata": {},
   "source": [
    "#### Task\n",
    "\n",
    "Read both train and test files"
   ]
  },
  {
   "cell_type": "code",
   "execution_count": 10,
   "metadata": {},
   "outputs": [
    {
     "data": {
      "text/plain": [
       "'C:\\\\Users\\\\siddhi Golatkar\\\\Desktop\\\\INSOFE\\\\BATCH 76\\\\10-5-2020 ANN lab\\\\ANN_Lab_Day02_Student_Files'"
      ]
     },
     "execution_count": 10,
     "metadata": {},
     "output_type": "execute_result"
    }
   ],
   "source": [
    "import os\n",
    "import pandas as pd\n",
    "import numpy as np\n",
    "\n",
    "import warnings\n",
    "warnings.filterwarnings(\"ignore\", category=DeprecationWarning) \n",
    "\n",
    "PATH = os.getcwd()\n",
    "\n",
    "PATH"
   ]
  },
  {
   "cell_type": "code",
   "execution_count": 11,
   "metadata": {},
   "outputs": [],
   "source": [
    "\n",
    "columns = ['age','workclass','fnlwgt','education','education_num','marital_status', 'occupation','relationship',\n",
    "           'race','sex','capital_gain','capital_loss', 'hours_per_week','native_country','target']\n"
   ]
  },
  {
   "cell_type": "code",
   "execution_count": 12,
   "metadata": {},
   "outputs": [],
   "source": [
    "train = pd.read_csv('adult_income-train.csv', names = columns, na_values = ['?'])\n",
    "\n",
    "test = pd.read_csv('adult_income_test.csv', names = columns, na_values = ['?'])"
   ]
  },
  {
   "cell_type": "markdown",
   "metadata": {},
   "source": [
    "#### Task\n",
    "\n",
    "Please provide the column names for these data-frames you have created.\n",
    "We have provided the column names here.\n",
    "<br>['age','workclass','fnlwgt','education','education_num','marital_status',\n",
    "                                             'occupation','relationship','race','sex','capital_gain','capital_loss',\n",
    "                                             'hours_per_week','native_country','target']\n"
   ]
  },
  {
   "cell_type": "code",
   "execution_count": 13,
   "metadata": {},
   "outputs": [
    {
     "data": {
      "text/html": [
       "<div>\n",
       "<style scoped>\n",
       "    .dataframe tbody tr th:only-of-type {\n",
       "        vertical-align: middle;\n",
       "    }\n",
       "\n",
       "    .dataframe tbody tr th {\n",
       "        vertical-align: top;\n",
       "    }\n",
       "\n",
       "    .dataframe thead th {\n",
       "        text-align: right;\n",
       "    }\n",
       "</style>\n",
       "<table border=\"1\" class=\"dataframe\">\n",
       "  <thead>\n",
       "    <tr style=\"text-align: right;\">\n",
       "      <th></th>\n",
       "      <th>age</th>\n",
       "      <th>workclass</th>\n",
       "      <th>fnlwgt</th>\n",
       "      <th>education</th>\n",
       "      <th>education_num</th>\n",
       "      <th>marital_status</th>\n",
       "      <th>occupation</th>\n",
       "      <th>relationship</th>\n",
       "      <th>race</th>\n",
       "      <th>sex</th>\n",
       "      <th>capital_gain</th>\n",
       "      <th>capital_loss</th>\n",
       "      <th>hours_per_week</th>\n",
       "      <th>native_country</th>\n",
       "      <th>target</th>\n",
       "    </tr>\n",
       "  </thead>\n",
       "  <tbody>\n",
       "    <tr>\n",
       "      <td>0</td>\n",
       "      <td>39</td>\n",
       "      <td>State-gov</td>\n",
       "      <td>77516</td>\n",
       "      <td>Bachelors</td>\n",
       "      <td>13</td>\n",
       "      <td>Never-married</td>\n",
       "      <td>Adm-clerical</td>\n",
       "      <td>Not-in-family</td>\n",
       "      <td>White</td>\n",
       "      <td>Male</td>\n",
       "      <td>2174</td>\n",
       "      <td>0</td>\n",
       "      <td>40</td>\n",
       "      <td>United-States</td>\n",
       "      <td>&lt;=50K</td>\n",
       "    </tr>\n",
       "    <tr>\n",
       "      <td>1</td>\n",
       "      <td>50</td>\n",
       "      <td>Self-emp-not-inc</td>\n",
       "      <td>83311</td>\n",
       "      <td>Bachelors</td>\n",
       "      <td>13</td>\n",
       "      <td>Married-civ-spouse</td>\n",
       "      <td>Exec-managerial</td>\n",
       "      <td>Husband</td>\n",
       "      <td>White</td>\n",
       "      <td>Male</td>\n",
       "      <td>0</td>\n",
       "      <td>0</td>\n",
       "      <td>13</td>\n",
       "      <td>United-States</td>\n",
       "      <td>&lt;=50K</td>\n",
       "    </tr>\n",
       "    <tr>\n",
       "      <td>2</td>\n",
       "      <td>38</td>\n",
       "      <td>Private</td>\n",
       "      <td>215646</td>\n",
       "      <td>HS-grad</td>\n",
       "      <td>9</td>\n",
       "      <td>Divorced</td>\n",
       "      <td>Handlers-cleaners</td>\n",
       "      <td>Not-in-family</td>\n",
       "      <td>White</td>\n",
       "      <td>Male</td>\n",
       "      <td>0</td>\n",
       "      <td>0</td>\n",
       "      <td>40</td>\n",
       "      <td>United-States</td>\n",
       "      <td>&lt;=50K</td>\n",
       "    </tr>\n",
       "  </tbody>\n",
       "</table>\n",
       "</div>"
      ],
      "text/plain": [
       "   age         workclass  fnlwgt  education  education_num  \\\n",
       "0   39         State-gov   77516  Bachelors             13   \n",
       "1   50  Self-emp-not-inc   83311  Bachelors             13   \n",
       "2   38           Private  215646    HS-grad              9   \n",
       "\n",
       "       marital_status         occupation   relationship   race   sex  \\\n",
       "0       Never-married       Adm-clerical  Not-in-family  White  Male   \n",
       "1  Married-civ-spouse    Exec-managerial        Husband  White  Male   \n",
       "2            Divorced  Handlers-cleaners  Not-in-family  White  Male   \n",
       "\n",
       "   capital_gain  capital_loss  hours_per_week native_country target  \n",
       "0          2174             0              40  United-States  <=50K  \n",
       "1             0             0              13  United-States  <=50K  \n",
       "2             0             0              40  United-States  <=50K  "
      ]
     },
     "execution_count": 13,
     "metadata": {},
     "output_type": "execute_result"
    }
   ],
   "source": [
    "train.head(3)"
   ]
  },
  {
   "cell_type": "code",
   "execution_count": 14,
   "metadata": {},
   "outputs": [
    {
     "data": {
      "text/html": [
       "<div>\n",
       "<style scoped>\n",
       "    .dataframe tbody tr th:only-of-type {\n",
       "        vertical-align: middle;\n",
       "    }\n",
       "\n",
       "    .dataframe tbody tr th {\n",
       "        vertical-align: top;\n",
       "    }\n",
       "\n",
       "    .dataframe thead th {\n",
       "        text-align: right;\n",
       "    }\n",
       "</style>\n",
       "<table border=\"1\" class=\"dataframe\">\n",
       "  <thead>\n",
       "    <tr style=\"text-align: right;\">\n",
       "      <th></th>\n",
       "      <th>age</th>\n",
       "      <th>workclass</th>\n",
       "      <th>fnlwgt</th>\n",
       "      <th>education</th>\n",
       "      <th>education_num</th>\n",
       "      <th>marital_status</th>\n",
       "      <th>occupation</th>\n",
       "      <th>relationship</th>\n",
       "      <th>race</th>\n",
       "      <th>sex</th>\n",
       "      <th>capital_gain</th>\n",
       "      <th>capital_loss</th>\n",
       "      <th>hours_per_week</th>\n",
       "      <th>native_country</th>\n",
       "      <th>target</th>\n",
       "    </tr>\n",
       "  </thead>\n",
       "  <tbody>\n",
       "    <tr>\n",
       "      <td>0</td>\n",
       "      <td>25</td>\n",
       "      <td>Private</td>\n",
       "      <td>226802</td>\n",
       "      <td>11th</td>\n",
       "      <td>7</td>\n",
       "      <td>Never-married</td>\n",
       "      <td>Machine-op-inspct</td>\n",
       "      <td>Own-child</td>\n",
       "      <td>Black</td>\n",
       "      <td>Male</td>\n",
       "      <td>0</td>\n",
       "      <td>0</td>\n",
       "      <td>40</td>\n",
       "      <td>United-States</td>\n",
       "      <td>&lt;=50K.</td>\n",
       "    </tr>\n",
       "    <tr>\n",
       "      <td>1</td>\n",
       "      <td>38</td>\n",
       "      <td>Private</td>\n",
       "      <td>89814</td>\n",
       "      <td>HS-grad</td>\n",
       "      <td>9</td>\n",
       "      <td>Married-civ-spouse</td>\n",
       "      <td>Farming-fishing</td>\n",
       "      <td>Husband</td>\n",
       "      <td>White</td>\n",
       "      <td>Male</td>\n",
       "      <td>0</td>\n",
       "      <td>0</td>\n",
       "      <td>50</td>\n",
       "      <td>United-States</td>\n",
       "      <td>&lt;=50K.</td>\n",
       "    </tr>\n",
       "    <tr>\n",
       "      <td>2</td>\n",
       "      <td>28</td>\n",
       "      <td>Local-gov</td>\n",
       "      <td>336951</td>\n",
       "      <td>Assoc-acdm</td>\n",
       "      <td>12</td>\n",
       "      <td>Married-civ-spouse</td>\n",
       "      <td>Protective-serv</td>\n",
       "      <td>Husband</td>\n",
       "      <td>White</td>\n",
       "      <td>Male</td>\n",
       "      <td>0</td>\n",
       "      <td>0</td>\n",
       "      <td>40</td>\n",
       "      <td>United-States</td>\n",
       "      <td>&gt;50K.</td>\n",
       "    </tr>\n",
       "  </tbody>\n",
       "</table>\n",
       "</div>"
      ],
      "text/plain": [
       "   age  workclass  fnlwgt   education  education_num      marital_status  \\\n",
       "0   25    Private  226802        11th              7       Never-married   \n",
       "1   38    Private   89814     HS-grad              9  Married-civ-spouse   \n",
       "2   28  Local-gov  336951  Assoc-acdm             12  Married-civ-spouse   \n",
       "\n",
       "          occupation relationship   race   sex  capital_gain  capital_loss  \\\n",
       "0  Machine-op-inspct    Own-child  Black  Male             0             0   \n",
       "1    Farming-fishing      Husband  White  Male             0             0   \n",
       "2    Protective-serv      Husband  White  Male             0             0   \n",
       "\n",
       "   hours_per_week native_country  target  \n",
       "0              40  United-States  <=50K.  \n",
       "1              50  United-States  <=50K.  \n",
       "2              40  United-States   >50K.  "
      ]
     },
     "execution_count": 14,
     "metadata": {},
     "output_type": "execute_result"
    }
   ],
   "source": [
    "test.head(3)"
   ]
  },
  {
   "cell_type": "code",
   "execution_count": 15,
   "metadata": {},
   "outputs": [
    {
     "data": {
      "text/plain": [
       "(32561, 15)"
      ]
     },
     "execution_count": 15,
     "metadata": {},
     "output_type": "execute_result"
    }
   ],
   "source": [
    "train.shape"
   ]
  },
  {
   "cell_type": "code",
   "execution_count": 16,
   "metadata": {},
   "outputs": [
    {
     "data": {
      "text/plain": [
       "(16281, 15)"
      ]
     },
     "execution_count": 16,
     "metadata": {},
     "output_type": "execute_result"
    }
   ],
   "source": [
    "test.shape"
   ]
  },
  {
   "cell_type": "code",
   "execution_count": 17,
   "metadata": {},
   "outputs": [
    {
     "data": {
      "text/plain": [
       "age                int64\n",
       "workclass         object\n",
       "fnlwgt             int64\n",
       "education         object\n",
       "education_num      int64\n",
       "marital_status    object\n",
       "occupation        object\n",
       "relationship      object\n",
       "race              object\n",
       "sex               object\n",
       "capital_gain       int64\n",
       "capital_loss       int64\n",
       "hours_per_week     int64\n",
       "native_country    object\n",
       "target            object\n",
       "dtype: object"
      ]
     },
     "execution_count": 17,
     "metadata": {},
     "output_type": "execute_result"
    }
   ],
   "source": [
    "train.dtypes"
   ]
  },
  {
   "cell_type": "code",
   "execution_count": 18,
   "metadata": {},
   "outputs": [
    {
     "name": "stdout",
     "output_type": "stream",
     "text": [
      "<class 'pandas.core.frame.DataFrame'>\n",
      "RangeIndex: 32561 entries, 0 to 32560\n",
      "Data columns (total 15 columns):\n",
      "age               32561 non-null int64\n",
      "workclass         30725 non-null object\n",
      "fnlwgt            32561 non-null int64\n",
      "education         32561 non-null object\n",
      "education_num     32561 non-null int64\n",
      "marital_status    32561 non-null object\n",
      "occupation        30718 non-null object\n",
      "relationship      32561 non-null object\n",
      "race              32561 non-null object\n",
      "sex               32561 non-null object\n",
      "capital_gain      32561 non-null int64\n",
      "capital_loss      32561 non-null int64\n",
      "hours_per_week    32561 non-null int64\n",
      "native_country    31978 non-null object\n",
      "target            32561 non-null object\n",
      "dtypes: int64(6), object(9)\n",
      "memory usage: 3.7+ MB\n"
     ]
    }
   ],
   "source": [
    "train.info()"
   ]
  },
  {
   "cell_type": "code",
   "execution_count": 19,
   "metadata": {},
   "outputs": [
    {
     "name": "stdout",
     "output_type": "stream",
     "text": [
      "<class 'pandas.core.frame.DataFrame'>\n",
      "RangeIndex: 16281 entries, 0 to 16280\n",
      "Data columns (total 15 columns):\n",
      "age               16281 non-null int64\n",
      "workclass         15318 non-null object\n",
      "fnlwgt            16281 non-null int64\n",
      "education         16281 non-null object\n",
      "education_num     16281 non-null int64\n",
      "marital_status    16281 non-null object\n",
      "occupation        15315 non-null object\n",
      "relationship      16281 non-null object\n",
      "race              16281 non-null object\n",
      "sex               16281 non-null object\n",
      "capital_gain      16281 non-null int64\n",
      "capital_loss      16281 non-null int64\n",
      "hours_per_week    16281 non-null int64\n",
      "native_country    16007 non-null object\n",
      "target            16281 non-null object\n",
      "dtypes: int64(6), object(9)\n",
      "memory usage: 1.9+ MB\n"
     ]
    }
   ],
   "source": [
    "test.info()"
   ]
  },
  {
   "cell_type": "code",
   "execution_count": 20,
   "metadata": {},
   "outputs": [
    {
     "data": {
      "text/html": [
       "<div>\n",
       "<style scoped>\n",
       "    .dataframe tbody tr th:only-of-type {\n",
       "        vertical-align: middle;\n",
       "    }\n",
       "\n",
       "    .dataframe tbody tr th {\n",
       "        vertical-align: top;\n",
       "    }\n",
       "\n",
       "    .dataframe thead th {\n",
       "        text-align: right;\n",
       "    }\n",
       "</style>\n",
       "<table border=\"1\" class=\"dataframe\">\n",
       "  <thead>\n",
       "    <tr style=\"text-align: right;\">\n",
       "      <th></th>\n",
       "      <th>age</th>\n",
       "      <th>fnlwgt</th>\n",
       "      <th>education_num</th>\n",
       "      <th>capital_gain</th>\n",
       "      <th>capital_loss</th>\n",
       "      <th>hours_per_week</th>\n",
       "    </tr>\n",
       "  </thead>\n",
       "  <tbody>\n",
       "    <tr>\n",
       "      <td>count</td>\n",
       "      <td>32561.000000</td>\n",
       "      <td>3.256100e+04</td>\n",
       "      <td>32561.000000</td>\n",
       "      <td>32561.000000</td>\n",
       "      <td>32561.000000</td>\n",
       "      <td>32561.000000</td>\n",
       "    </tr>\n",
       "    <tr>\n",
       "      <td>mean</td>\n",
       "      <td>38.581647</td>\n",
       "      <td>1.897784e+05</td>\n",
       "      <td>10.080679</td>\n",
       "      <td>1077.648844</td>\n",
       "      <td>87.303830</td>\n",
       "      <td>40.437456</td>\n",
       "    </tr>\n",
       "    <tr>\n",
       "      <td>std</td>\n",
       "      <td>13.640433</td>\n",
       "      <td>1.055500e+05</td>\n",
       "      <td>2.572720</td>\n",
       "      <td>7385.292085</td>\n",
       "      <td>402.960219</td>\n",
       "      <td>12.347429</td>\n",
       "    </tr>\n",
       "    <tr>\n",
       "      <td>min</td>\n",
       "      <td>17.000000</td>\n",
       "      <td>1.228500e+04</td>\n",
       "      <td>1.000000</td>\n",
       "      <td>0.000000</td>\n",
       "      <td>0.000000</td>\n",
       "      <td>1.000000</td>\n",
       "    </tr>\n",
       "    <tr>\n",
       "      <td>25%</td>\n",
       "      <td>28.000000</td>\n",
       "      <td>1.178270e+05</td>\n",
       "      <td>9.000000</td>\n",
       "      <td>0.000000</td>\n",
       "      <td>0.000000</td>\n",
       "      <td>40.000000</td>\n",
       "    </tr>\n",
       "    <tr>\n",
       "      <td>50%</td>\n",
       "      <td>37.000000</td>\n",
       "      <td>1.783560e+05</td>\n",
       "      <td>10.000000</td>\n",
       "      <td>0.000000</td>\n",
       "      <td>0.000000</td>\n",
       "      <td>40.000000</td>\n",
       "    </tr>\n",
       "    <tr>\n",
       "      <td>75%</td>\n",
       "      <td>48.000000</td>\n",
       "      <td>2.370510e+05</td>\n",
       "      <td>12.000000</td>\n",
       "      <td>0.000000</td>\n",
       "      <td>0.000000</td>\n",
       "      <td>45.000000</td>\n",
       "    </tr>\n",
       "    <tr>\n",
       "      <td>max</td>\n",
       "      <td>90.000000</td>\n",
       "      <td>1.484705e+06</td>\n",
       "      <td>16.000000</td>\n",
       "      <td>99999.000000</td>\n",
       "      <td>4356.000000</td>\n",
       "      <td>99.000000</td>\n",
       "    </tr>\n",
       "  </tbody>\n",
       "</table>\n",
       "</div>"
      ],
      "text/plain": [
       "                age        fnlwgt  education_num  capital_gain  capital_loss  \\\n",
       "count  32561.000000  3.256100e+04   32561.000000  32561.000000  32561.000000   \n",
       "mean      38.581647  1.897784e+05      10.080679   1077.648844     87.303830   \n",
       "std       13.640433  1.055500e+05       2.572720   7385.292085    402.960219   \n",
       "min       17.000000  1.228500e+04       1.000000      0.000000      0.000000   \n",
       "25%       28.000000  1.178270e+05       9.000000      0.000000      0.000000   \n",
       "50%       37.000000  1.783560e+05      10.000000      0.000000      0.000000   \n",
       "75%       48.000000  2.370510e+05      12.000000      0.000000      0.000000   \n",
       "max       90.000000  1.484705e+06      16.000000  99999.000000   4356.000000   \n",
       "\n",
       "       hours_per_week  \n",
       "count    32561.000000  \n",
       "mean        40.437456  \n",
       "std         12.347429  \n",
       "min          1.000000  \n",
       "25%         40.000000  \n",
       "50%         40.000000  \n",
       "75%         45.000000  \n",
       "max         99.000000  "
      ]
     },
     "execution_count": 20,
     "metadata": {},
     "output_type": "execute_result"
    }
   ],
   "source": [
    "train.describe()"
   ]
  },
  {
   "cell_type": "code",
   "execution_count": 21,
   "metadata": {},
   "outputs": [
    {
     "data": {
      "text/plain": [
       "24"
      ]
     },
     "execution_count": 21,
     "metadata": {},
     "output_type": "execute_result"
    }
   ],
   "source": [
    "train.duplicated().sum()"
   ]
  },
  {
   "cell_type": "code",
   "execution_count": 22,
   "metadata": {},
   "outputs": [
    {
     "data": {
      "text/plain": [
       "5"
      ]
     },
     "execution_count": 22,
     "metadata": {},
     "output_type": "execute_result"
    }
   ],
   "source": [
    "test.duplicated().sum()"
   ]
  },
  {
   "cell_type": "code",
   "execution_count": 23,
   "metadata": {},
   "outputs": [],
   "source": [
    "train.drop_duplicates(keep = 'first', inplace = True)\n",
    "\n",
    "test.drop_duplicates(keep = 'first', inplace = True)\n"
   ]
  },
  {
   "cell_type": "code",
   "execution_count": 24,
   "metadata": {},
   "outputs": [
    {
     "name": "stdout",
     "output_type": "stream",
     "text": [
      "(32537, 15)\n",
      "(16276, 15)\n"
     ]
    }
   ],
   "source": [
    "print(train.shape)\n",
    "print(test.shape)"
   ]
  },
  {
   "cell_type": "markdown",
   "metadata": {},
   "source": [
    "#### Task\n",
    "\n",
    "See the number of missing values for train and test data"
   ]
  },
  {
   "cell_type": "code",
   "execution_count": 25,
   "metadata": {},
   "outputs": [
    {
     "data": {
      "text/plain": [
       "age                  0\n",
       "workclass         1836\n",
       "fnlwgt               0\n",
       "education            0\n",
       "education_num        0\n",
       "marital_status       0\n",
       "occupation        1843\n",
       "relationship         0\n",
       "race                 0\n",
       "sex                  0\n",
       "capital_gain         0\n",
       "capital_loss         0\n",
       "hours_per_week       0\n",
       "native_country     582\n",
       "target               0\n",
       "dtype: int64"
      ]
     },
     "execution_count": 25,
     "metadata": {},
     "output_type": "execute_result"
    }
   ],
   "source": [
    "train.isnull().sum()"
   ]
  },
  {
   "cell_type": "code",
   "execution_count": 26,
   "metadata": {},
   "outputs": [
    {
     "data": {
      "text/plain": [
       "age                 0\n",
       "workclass         963\n",
       "fnlwgt              0\n",
       "education           0\n",
       "education_num       0\n",
       "marital_status      0\n",
       "occupation        966\n",
       "relationship        0\n",
       "race                0\n",
       "sex                 0\n",
       "capital_gain        0\n",
       "capital_loss        0\n",
       "hours_per_week      0\n",
       "native_country    274\n",
       "target              0\n",
       "dtype: int64"
      ]
     },
     "execution_count": 26,
     "metadata": {},
     "output_type": "execute_result"
    }
   ],
   "source": [
    "test.isnull().sum()"
   ]
  },
  {
   "cell_type": "code",
   "execution_count": 27,
   "metadata": {},
   "outputs": [
    {
     "data": {
      "text/plain": [
       "native_country    1.788733\n",
       "workclass         5.642807\n",
       "occupation        5.664321\n",
       "dtype: float64"
      ]
     },
     "execution_count": 27,
     "metadata": {},
     "output_type": "execute_result"
    }
   ],
   "source": [
    "missing = train.isnull().sum() *100 / len(train)\n",
    "missing = missing [missing > 0]\n",
    "missing.sort_values(inplace = True)\n",
    "missing"
   ]
  },
  {
   "cell_type": "markdown",
   "metadata": {},
   "source": [
    "#### Task\n",
    "For this lab activity we are not going to consider for imputation of null values, please drop the records where any one of the \n",
    "feature has null values."
   ]
  },
  {
   "cell_type": "code",
   "execution_count": 28,
   "metadata": {},
   "outputs": [],
   "source": [
    "train = train.dropna(axis = 0)\n",
    "test = test.dropna(axis = 0)"
   ]
  },
  {
   "cell_type": "markdown",
   "metadata": {},
   "source": [
    "#### Task\n",
    "\n",
    "Get rid of the fnlwgt feature in both train and test data."
   ]
  },
  {
   "cell_type": "code",
   "execution_count": 29,
   "metadata": {},
   "outputs": [],
   "source": [
    "train.drop('fnlwgt', axis = 1, inplace = True)\n",
    "test.drop('fnlwgt', axis = 1, inplace = True) "
   ]
  },
  {
   "cell_type": "markdown",
   "metadata": {},
   "source": [
    "#### Task\n",
    "\n",
    "Values in the target column is of type <b> <=50K and >50K </b>. We need to replace them with 1 and 0.\n",
    "For <b> <=50K </b> replace them with 0 and for <b> >50K </b> replace them with 1."
   ]
  },
  {
   "cell_type": "code",
   "execution_count": 30,
   "metadata": {},
   "outputs": [],
   "source": [
    "train.target = train.target.astype('category').cat.codes\n",
    "\n",
    "test.target = test.target.astype('category').cat.codes\n"
   ]
  },
  {
   "cell_type": "markdown",
   "metadata": {},
   "source": [
    "#### Task.\n",
    "\n",
    "For the model building activity we will consider for all the features. Now please proceed with the task of handling the\n",
    "categorical features."
   ]
  },
  {
   "cell_type": "code",
   "execution_count": 31,
   "metadata": {},
   "outputs": [],
   "source": [
    "cat_cols = ['workclass', 'education','marital_status', 'occupation','relationship','race',\n",
    "            'sex','native_country']\n",
    "num_cols = ['age','education_num', 'capital_gain','capital_loss', 'hours_per_week']"
   ]
  },
  {
   "cell_type": "code",
   "execution_count": 32,
   "metadata": {},
   "outputs": [],
   "source": [
    "train[cat_cols] = train[cat_cols].astype(\"category\")\n",
    "\n",
    "test[cat_cols] = test[cat_cols].astype('category')"
   ]
  },
  {
   "cell_type": "code",
   "execution_count": 33,
   "metadata": {},
   "outputs": [],
   "source": [
    "from sklearn.impute import SimpleImputer\n",
    "\n",
    "cat_imputer = SimpleImputer(strategy='most_frequent')"
   ]
  },
  {
   "cell_type": "code",
   "execution_count": 34,
   "metadata": {},
   "outputs": [],
   "source": [
    "cat_none = ['workclass', 'occupation', 'native_country']"
   ]
  },
  {
   "cell_type": "code",
   "execution_count": 35,
   "metadata": {},
   "outputs": [],
   "source": [
    "cat_imputer.fit(train[cat_none])\n",
    "\n",
    "train[cat_none] = cat_imputer.transform(train[cat_none]) "
   ]
  },
  {
   "cell_type": "code",
   "execution_count": 36,
   "metadata": {},
   "outputs": [],
   "source": [
    "cat_imputer.fit(test[cat_none])\n",
    "\n",
    "test[cat_none] = cat_imputer.transform(test[cat_none]) "
   ]
  },
  {
   "cell_type": "code",
   "execution_count": 37,
   "metadata": {},
   "outputs": [
    {
     "data": {
      "text/plain": [
       "age               0\n",
       "workclass         0\n",
       "education         0\n",
       "education_num     0\n",
       "marital_status    0\n",
       "occupation        0\n",
       "relationship      0\n",
       "race              0\n",
       "sex               0\n",
       "capital_gain      0\n",
       "capital_loss      0\n",
       "hours_per_week    0\n",
       "native_country    0\n",
       "target            0\n",
       "dtype: int64"
      ]
     },
     "execution_count": 37,
     "metadata": {},
     "output_type": "execute_result"
    }
   ],
   "source": [
    "train.isnull().sum()"
   ]
  },
  {
   "cell_type": "code",
   "execution_count": 38,
   "metadata": {},
   "outputs": [
    {
     "data": {
      "text/plain": [
       "age               0\n",
       "workclass         0\n",
       "education         0\n",
       "education_num     0\n",
       "marital_status    0\n",
       "occupation        0\n",
       "relationship      0\n",
       "race              0\n",
       "sex               0\n",
       "capital_gain      0\n",
       "capital_loss      0\n",
       "hours_per_week    0\n",
       "native_country    0\n",
       "target            0\n",
       "dtype: int64"
      ]
     },
     "execution_count": 38,
     "metadata": {},
     "output_type": "execute_result"
    }
   ],
   "source": [
    "test.isnull().sum()"
   ]
  },
  {
   "cell_type": "code",
   "execution_count": 39,
   "metadata": {},
   "outputs": [],
   "source": [
    "X_train = train.drop('target', axis = 1)\n",
    "y_train = train['target']\n",
    "\n",
    "X_test = test.drop(['target'], axis = 1)\n",
    "y_test = test['target']"
   ]
  },
  {
   "cell_type": "code",
   "execution_count": 40,
   "metadata": {},
   "outputs": [],
   "source": [
    "from sklearn.preprocessing import OneHotEncoder\n",
    "\n",
    "ohe = OneHotEncoder(handle_unknown = 'ignore')\n",
    "\n",
    "X_train = ohe.fit_transform(X_train[cat_cols])\n",
    "\n",
    "X_test = ohe.transform(X_test[cat_cols]) "
   ]
  },
  {
   "cell_type": "code",
   "execution_count": 41,
   "metadata": {},
   "outputs": [
    {
     "name": "stdout",
     "output_type": "stream",
     "text": [
      "(30139, 98)\n",
      "(15055, 98)\n"
     ]
    }
   ],
   "source": [
    "print(X_train.shape)\n",
    "print(X_test.shape)"
   ]
  },
  {
   "cell_type": "code",
   "execution_count": 42,
   "metadata": {},
   "outputs": [],
   "source": [
    "from sklearn.model_selection import GridSearchCV\n",
    "\n",
    "from sklearn.linear_model import LogisticRegression\n",
    "\n",
    "from sklearn.tree import DecisionTreeClassifier\n",
    "\n",
    "from sklearn.metrics import confusion_matrix \n",
    "\n",
    "from sklearn.metrics import accuracy_score\n",
    "\n",
    "from sklearn.metrics import classification_report"
   ]
  },
  {
   "cell_type": "markdown",
   "metadata": {},
   "source": [
    "### Perceptron model"
   ]
  },
  {
   "cell_type": "code",
   "execution_count": 6,
   "metadata": {},
   "outputs": [],
   "source": [
    "from keras.models import Sequential\n",
    "from keras.layers import Dense"
   ]
  },
  {
   "cell_type": "code",
   "execution_count": 44,
   "metadata": {},
   "outputs": [],
   "source": [
    "perceptron_model = Sequential()\n",
    "\n",
    "perceptron_model.add(Dense(1, input_dim = 98, activation = 'sigmoid', kernel_initializer = 'normal' ))"
   ]
  },
  {
   "cell_type": "code",
   "execution_count": 45,
   "metadata": {},
   "outputs": [],
   "source": [
    "perceptron_model.compile(loss = 'binary_crossentropy', optimizer = 'sgd', metrics = ['accuracy'])"
   ]
  },
  {
   "cell_type": "code",
   "execution_count": 60,
   "metadata": {},
   "outputs": [
    {
     "name": "stdout",
     "output_type": "stream",
     "text": [
      "Epoch 1/10\n",
      "30139/30139 [==============================] - 1s 33us/step - loss: 0.3737 - accuracy: 0.8252\n",
      "Epoch 2/10\n",
      "30139/30139 [==============================] - 1s 33us/step - loss: 0.3736 - accuracy: 0.8253\n",
      "Epoch 3/10\n",
      "30139/30139 [==============================] - 1s 40us/step - loss: 0.3734 - accuracy: 0.8255\n",
      "Epoch 4/10\n",
      "30139/30139 [==============================] - 1s 33us/step - loss: 0.3733 - accuracy: 0.8257\n",
      "Epoch 5/10\n",
      "30139/30139 [==============================] - 1s 34us/step - loss: 0.3732 - accuracy: 0.8254\n",
      "Epoch 6/10\n",
      "30139/30139 [==============================] - 1s 34us/step - loss: 0.3730 - accuracy: 0.8255\n",
      "Epoch 7/10\n",
      "30139/30139 [==============================] - 1s 33us/step - loss: 0.3729 - accuracy: 0.8256\n",
      "Epoch 8/10\n",
      "30139/30139 [==============================] - 1s 35us/step - loss: 0.3728 - accuracy: 0.8256\n",
      "Epoch 9/10\n",
      "30139/30139 [==============================] - 1s 34us/step - loss: 0.3727 - accuracy: 0.8260\n",
      "Epoch 10/10\n",
      "30139/30139 [==============================] - 1s 34us/step - loss: 0.3726 - accuracy: 0.8256\n"
     ]
    }
   ],
   "source": [
    "perceptron_model_history = perceptron_model.fit(X_train, y_train, epochs = 10, batch_size = 64)"
   ]
  },
  {
   "cell_type": "code",
   "execution_count": 48,
   "metadata": {},
   "outputs": [
    {
     "name": "stdout",
     "output_type": "stream",
     "text": [
      "dict_keys(['loss', 'accuracy'])\n"
     ]
    }
   ],
   "source": [
    "print(perceptron_model_history.history.keys())"
   ]
  },
  {
   "cell_type": "code",
   "execution_count": 49,
   "metadata": {},
   "outputs": [],
   "source": [
    "def model_evaluation(actuals, predictions) :\n",
    "    \n",
    "    print('\\nConfusion Matrix :')\n",
    "    print(confusion_matrix(actuals, predictions) ) \n",
    "    \n",
    "    print('\\nReport : ')\n",
    "    print(classification_report(actuals, predictions))\n",
    "    \n",
    "    print('\\nAccuracy Score :', accuracy_score(actuals, predictions)) \n",
    "    print(\"------------------------------------------------------------------\")\n",
    "    "
   ]
  },
  {
   "cell_type": "code",
   "execution_count": 61,
   "metadata": {},
   "outputs": [],
   "source": [
    "pred_test = perceptron_model.predict_classes(X_test)\n",
    "pred_train = perceptron_model.predict_classes(X_train)"
   ]
  },
  {
   "cell_type": "code",
   "execution_count": 62,
   "metadata": {},
   "outputs": [
    {
     "name": "stdout",
     "output_type": "stream",
     "text": [
      "\n",
      "Confusion Matrix :\n",
      "[[20884  1749]\n",
      " [ 3509  3997]]\n",
      "\n",
      "Report : \n",
      "              precision    recall  f1-score   support\n",
      "\n",
      "           0       0.86      0.92      0.89     22633\n",
      "           1       0.70      0.53      0.60      7506\n",
      "\n",
      "    accuracy                           0.83     30139\n",
      "   macro avg       0.78      0.73      0.75     30139\n",
      "weighted avg       0.82      0.83      0.82     30139\n",
      "\n",
      "\n",
      "Accuracy Score : 0.825541656989283\n",
      "------------------------------------------------------------------\n",
      "\n",
      "Confusion Matrix :\n",
      "[[10482   873]\n",
      " [ 1729  1971]]\n",
      "\n",
      "Report : \n",
      "              precision    recall  f1-score   support\n",
      "\n",
      "           0       0.86      0.92      0.89     11355\n",
      "           1       0.69      0.53      0.60      3700\n",
      "\n",
      "    accuracy                           0.83     15055\n",
      "   macro avg       0.78      0.73      0.75     15055\n",
      "weighted avg       0.82      0.83      0.82     15055\n",
      "\n",
      "\n",
      "Accuracy Score : 0.8271670541348389\n",
      "------------------------------------------------------------------\n"
     ]
    }
   ],
   "source": [
    "model_evaluation(y_train, pred_train)\n",
    "model_evaluation(y_test, pred_test)"
   ]
  },
  {
   "cell_type": "code",
   "execution_count": 63,
   "metadata": {},
   "outputs": [
    {
     "name": "stdout",
     "output_type": "stream",
     "text": [
      "Model: \"sequential_3\"\n",
      "_________________________________________________________________\n",
      "Layer (type)                 Output Shape              Param #   \n",
      "=================================================================\n",
      "dense_2 (Dense)              (None, 1)                 99        \n",
      "=================================================================\n",
      "Total params: 99\n",
      "Trainable params: 99\n",
      "Non-trainable params: 0\n",
      "_________________________________________________________________\n"
     ]
    }
   ],
   "source": [
    "perceptron_model.summary()"
   ]
  },
  {
   "cell_type": "markdown",
   "metadata": {},
   "source": [
    "### MLP with 2 layers\n",
    "\n",
    "    1 hidden layer with 15 neurons"
   ]
  },
  {
   "cell_type": "code",
   "execution_count": 82,
   "metadata": {},
   "outputs": [],
   "source": [
    "mlp_model1 = Sequential()\n",
    "\n",
    "mlp_model1.add(Dense(15, input_dim = 98, activation = 'tanh', kernel_initializer = 'normal'))\n",
    "\n",
    "mlp_model1.add(Dense(1, activation = 'sigmoid', kernel_initializer = 'normal')) "
   ]
  },
  {
   "cell_type": "code",
   "execution_count": 83,
   "metadata": {},
   "outputs": [
    {
     "name": "stdout",
     "output_type": "stream",
     "text": [
      "Model: \"sequential_7\"\n",
      "_________________________________________________________________\n",
      "Layer (type)                 Output Shape              Param #   \n",
      "=================================================================\n",
      "dense_8 (Dense)              (None, 15)                1485      \n",
      "_________________________________________________________________\n",
      "dense_9 (Dense)              (None, 1)                 16        \n",
      "=================================================================\n",
      "Total params: 1,501\n",
      "Trainable params: 1,501\n",
      "Non-trainable params: 0\n",
      "_________________________________________________________________\n"
     ]
    }
   ],
   "source": [
    "mlp_model1.summary()"
   ]
  },
  {
   "cell_type": "code",
   "execution_count": 84,
   "metadata": {},
   "outputs": [],
   "source": [
    "mlp_model1.compile(loss = 'binary_crossentropy', optimizer = 'sgd', metrics = ['accuracy'])"
   ]
  },
  {
   "cell_type": "code",
   "execution_count": 85,
   "metadata": {},
   "outputs": [
    {
     "name": "stdout",
     "output_type": "stream",
     "text": [
      "Epoch 1/10\n",
      "30139/30139 [==============================] - 1s 44us/step - loss: 0.5972 - accuracy: 0.7460\n",
      "Epoch 2/10\n",
      "30139/30139 [==============================] - 1s 36us/step - loss: 0.5223 - accuracy: 0.7510\n",
      "Epoch 3/10\n",
      "30139/30139 [==============================] - 1s 37us/step - loss: 0.4666 - accuracy: 0.7584\n",
      "Epoch 4/10\n",
      "30139/30139 [==============================] - 1s 36us/step - loss: 0.4322 - accuracy: 0.8006\n",
      "Epoch 5/10\n",
      "30139/30139 [==============================] - 1s 36us/step - loss: 0.4151 - accuracy: 0.8125\n",
      "Epoch 6/10\n",
      "30139/30139 [==============================] - 1s 36us/step - loss: 0.4047 - accuracy: 0.8176\n",
      "Epoch 7/10\n",
      "30139/30139 [==============================] - 1s 36us/step - loss: 0.3975 - accuracy: 0.8197\n",
      "Epoch 8/10\n",
      "30139/30139 [==============================] - 1s 36us/step - loss: 0.3923 - accuracy: 0.8206\n",
      "Epoch 9/10\n",
      "30139/30139 [==============================] - 1s 36us/step - loss: 0.3884 - accuracy: 0.8220\n",
      "Epoch 10/10\n",
      "30139/30139 [==============================] - 1s 42us/step - loss: 0.3853 - accuracy: 0.8224\n"
     ]
    }
   ],
   "source": [
    "model1_histrory = mlp_model1.fit(X_train, y_train, epochs = 10, batch_size = 64)"
   ]
  },
  {
   "cell_type": "code",
   "execution_count": 86,
   "metadata": {},
   "outputs": [],
   "source": [
    "pred_train_model1 = mlp_model1.predict_classes(X_train)\n",
    "\n",
    "pred_test_model1 = mlp_model1.predict_classes(X_test) "
   ]
  },
  {
   "cell_type": "code",
   "execution_count": 87,
   "metadata": {},
   "outputs": [
    {
     "name": "stdout",
     "output_type": "stream",
     "text": [
      "\n",
      "Confusion Matrix :\n",
      "[[20797  1836]\n",
      " [ 3517  3989]]\n",
      "\n",
      "Report : \n",
      "              precision    recall  f1-score   support\n",
      "\n",
      "           0       0.86      0.92      0.89     22633\n",
      "           1       0.68      0.53      0.60      7506\n",
      "\n",
      "    accuracy                           0.82     30139\n",
      "   macro avg       0.77      0.73      0.74     30139\n",
      "weighted avg       0.81      0.82      0.81     30139\n",
      "\n",
      "\n",
      "Accuracy Score : 0.8223895948770695\n",
      "------------------------------------------------------------------\n",
      "\n",
      "Confusion Matrix :\n",
      "[[10449   906]\n",
      " [ 1714  1986]]\n",
      "\n",
      "Report : \n",
      "              precision    recall  f1-score   support\n",
      "\n",
      "           0       0.86      0.92      0.89     11355\n",
      "           1       0.69      0.54      0.60      3700\n",
      "\n",
      "    accuracy                           0.83     15055\n",
      "   macro avg       0.77      0.73      0.75     15055\n",
      "weighted avg       0.82      0.83      0.82     15055\n",
      "\n",
      "\n",
      "Accuracy Score : 0.825971438060445\n",
      "------------------------------------------------------------------\n"
     ]
    }
   ],
   "source": [
    "model_evaluation(y_train, pred_train_model1)\n",
    "\n",
    "model_evaluation(y_test, pred_test_model1)"
   ]
  },
  {
   "cell_type": "markdown",
   "metadata": {},
   "source": [
    "### MLP with 3 layers\n",
    "\n",
    "    1st hidden layer with 25 neurons\n",
    "    2nd hidden layer with 15 neurons"
   ]
  },
  {
   "cell_type": "code",
   "execution_count": 88,
   "metadata": {},
   "outputs": [],
   "source": [
    "mlp_model2 = Sequential()\n",
    "\n",
    "mlp_model2.add(Dense(25, input_dim=98, activation='tanh', kernel_initializer='normal'))\n",
    "mlp_model2.add(Dense(15, activation='tanh', kernel_initializer='normal'))\n",
    "mlp_model2.add(Dense(1, activation='sigmoid', kernel_initializer='normal'))\n"
   ]
  },
  {
   "cell_type": "code",
   "execution_count": 89,
   "metadata": {},
   "outputs": [
    {
     "name": "stdout",
     "output_type": "stream",
     "text": [
      "Model: \"sequential_8\"\n",
      "_________________________________________________________________\n",
      "Layer (type)                 Output Shape              Param #   \n",
      "=================================================================\n",
      "dense_10 (Dense)             (None, 25)                2475      \n",
      "_________________________________________________________________\n",
      "dense_11 (Dense)             (None, 15)                390       \n",
      "_________________________________________________________________\n",
      "dense_12 (Dense)             (None, 1)                 16        \n",
      "=================================================================\n",
      "Total params: 2,881\n",
      "Trainable params: 2,881\n",
      "Non-trainable params: 0\n",
      "_________________________________________________________________\n"
     ]
    }
   ],
   "source": [
    "mlp_model2.summary()"
   ]
  },
  {
   "cell_type": "code",
   "execution_count": 90,
   "metadata": {},
   "outputs": [],
   "source": [
    "mlp_model2.compile(loss='binary_crossentropy', optimizer='sgd', metrics=['accuracy'])"
   ]
  },
  {
   "cell_type": "code",
   "execution_count": 91,
   "metadata": {},
   "outputs": [
    {
     "name": "stdout",
     "output_type": "stream",
     "text": [
      "Epoch 1/10\n",
      "30139/30139 [==============================] - 1s 41us/step - loss: 0.6093 - accuracy: 0.7505\n",
      "Epoch 2/10\n",
      "30139/30139 [==============================] - 1s 36us/step - loss: 0.5591 - accuracy: 0.7510\n",
      "Epoch 3/10\n",
      "30139/30139 [==============================] - 1s 38us/step - loss: 0.5422 - accuracy: 0.7510\n",
      "Epoch 4/10\n",
      "30139/30139 [==============================] - 1s 40us/step - loss: 0.5034 - accuracy: 0.7510\n",
      "Epoch 5/10\n",
      "30139/30139 [==============================] - 1s 40us/step - loss: 0.4488 - accuracy: 0.7760\n",
      "Epoch 6/10\n",
      "30139/30139 [==============================] - 1s 38us/step - loss: 0.4199 - accuracy: 0.8118\n",
      "Epoch 7/10\n",
      "30139/30139 [==============================] - 1s 39us/step - loss: 0.4045 - accuracy: 0.8167\n",
      "Epoch 8/10\n",
      "30139/30139 [==============================] - 1s 39us/step - loss: 0.3948 - accuracy: 0.8207\n",
      "Epoch 9/10\n",
      "30139/30139 [==============================] - 1s 46us/step - loss: 0.3886 - accuracy: 0.8218\n",
      "Epoch 10/10\n",
      "30139/30139 [==============================] - 1s 38us/step - loss: 0.3843 - accuracy: 0.8227\n"
     ]
    }
   ],
   "source": [
    "model2_history = mlp_model2.fit(X_train, y_train, epochs=10, batch_size=64)"
   ]
  },
  {
   "cell_type": "code",
   "execution_count": 92,
   "metadata": {},
   "outputs": [],
   "source": [
    "pred_train_model2 = mlp_model2.predict_classes(X_train)\n",
    "\n",
    "pred_test_model2 = mlp_model2.predict_classes(X_test) "
   ]
  },
  {
   "cell_type": "code",
   "execution_count": 93,
   "metadata": {},
   "outputs": [
    {
     "name": "stdout",
     "output_type": "stream",
     "text": [
      "\n",
      "Confusion Matrix :\n",
      "[[20909  1724]\n",
      " [ 3573  3933]]\n",
      "\n",
      "Report : \n",
      "              precision    recall  f1-score   support\n",
      "\n",
      "           0       0.85      0.92      0.89     22633\n",
      "           1       0.70      0.52      0.60      7506\n",
      "\n",
      "    accuracy                           0.82     30139\n",
      "   macro avg       0.77      0.72      0.74     30139\n",
      "weighted avg       0.81      0.82      0.82     30139\n",
      "\n",
      "\n",
      "Accuracy Score : 0.8242476525432164\n",
      "------------------------------------------------------------------\n",
      "\n",
      "Confusion Matrix :\n",
      "[[10493   862]\n",
      " [ 1731  1969]]\n",
      "\n",
      "Report : \n",
      "              precision    recall  f1-score   support\n",
      "\n",
      "           0       0.86      0.92      0.89     11355\n",
      "           1       0.70      0.53      0.60      3700\n",
      "\n",
      "    accuracy                           0.83     15055\n",
      "   macro avg       0.78      0.73      0.75     15055\n",
      "weighted avg       0.82      0.83      0.82     15055\n",
      "\n",
      "\n",
      "Accuracy Score : 0.8277648621720358\n",
      "------------------------------------------------------------------\n"
     ]
    }
   ],
   "source": [
    "model_evaluation(y_train, pred_train_model2)\n",
    "\n",
    "model_evaluation(y_test, pred_test_model2)"
   ]
  },
  {
   "cell_type": "markdown",
   "metadata": {},
   "source": [
    "#### Find best parameter"
   ]
  },
  {
   "cell_type": "markdown",
   "metadata": {},
   "source": [
    "#### Function for creation of model"
   ]
  },
  {
   "cell_type": "code",
   "execution_count": 94,
   "metadata": {},
   "outputs": [],
   "source": [
    "def model_def(h_activation, o_activation, kernel_init):\n",
    "    \n",
    "    model=Sequential()\n",
    "    \n",
    "    model.add(Dense(35, input_dim=98, activation=h_activation, kernel_initializer=kernel_init))\n",
    "    model.add(Dense(15, activation=h_activation, kernel_initializer=kernel_init))\n",
    "    model.add(Dense(1, activation=o_activation, kernel_initializer=kernel_init))\n",
    "    \n",
    "    return model "
   ]
  },
  {
   "cell_type": "markdown",
   "metadata": {},
   "source": [
    "#### Store the best parameters"
   ]
  },
  {
   "cell_type": "code",
   "execution_count": 95,
   "metadata": {},
   "outputs": [],
   "source": [
    "best_params={}"
   ]
  },
  {
   "cell_type": "markdown",
   "metadata": {},
   "source": [
    "### Find the best Learning rate"
   ]
  },
  {
   "cell_type": "markdown",
   "metadata": {},
   "source": [
    "    Using logarithmic scale randomly generate values between 0.0001 to 1 "
   ]
  },
  {
   "cell_type": "code",
   "execution_count": 96,
   "metadata": {},
   "outputs": [
    {
     "data": {
      "text/plain": [
       "[0.4295,\n",
       " 0.1407,\n",
       " 0.0459,\n",
       " 0.2423,\n",
       " 0.2753,\n",
       " 0.1113,\n",
       " 0.1477,\n",
       " 0.0589,\n",
       " 0.0002,\n",
       " 0.0878]"
      ]
     },
     "execution_count": 96,
     "metadata": {},
     "output_type": "execute_result"
    }
   ],
   "source": [
    "NUM_LR = 10 \n",
    "\n",
    "lrs = [round(i, 4) for i in list(10 ** (-4 * np.random.rand(NUM_LR)))]\n",
    "\n",
    "lrs"
   ]
  },
  {
   "cell_type": "code",
   "execution_count": 109,
   "metadata": {},
   "outputs": [],
   "source": [
    "from keras import optimizers"
   ]
  },
  {
   "cell_type": "code",
   "execution_count": 110,
   "metadata": {},
   "outputs": [
    {
     "name": "stdout",
     "output_type": "stream",
     "text": [
      "Epoch 1/1\n",
      "30139/30139 [==============================] - 2s 76us/step - loss: 0.5872 - accuracy: 0.7507\n",
      "Epoch 1/1\n",
      "30139/30139 [==============================] - 2s 76us/step - loss: 0.5869 - accuracy: 0.7505\n",
      "Epoch 1/1\n",
      "30139/30139 [==============================] - 2s 77us/step - loss: 0.5869 - accuracy: 0.7508\n",
      "Epoch 1/1\n",
      "30139/30139 [==============================] - 2s 76us/step - loss: 0.5892 - accuracy: 0.7486\n",
      "Epoch 1/1\n",
      "30139/30139 [==============================] - 2s 81us/step - loss: 0.5862 - accuracy: 0.7508\n",
      "Epoch 1/1\n",
      "30139/30139 [==============================] - 2s 79us/step - loss: 0.5878 - accuracy: 0.7497\n",
      "Epoch 1/1\n",
      "30139/30139 [==============================] - 2s 79us/step - loss: 0.5886 - accuracy: 0.7488\n",
      "Epoch 1/1\n",
      "30139/30139 [==============================] - 2s 78us/step - loss: 0.5871 - accuracy: 0.7503\n",
      "Epoch 1/1\n",
      "30139/30139 [==============================] - 3s 84us/step - loss: 0.5880 - accuracy: 0.7500\n",
      "Epoch 1/1\n",
      "30139/30139 [==============================] - 2s 81us/step - loss: 0.5844 - accuracy: 0.7508\n"
     ]
    }
   ],
   "source": [
    "hist_loss = []\n",
    "\n",
    "for lr in lrs:\n",
    "    \n",
    "    lr_model = model_def(h_activation='tanh', o_activation='sigmoid', kernel_init='normal')\n",
    "    \n",
    "    # Compile model\n",
    "    sgd = optimizers.SGD(lr=lr)\n",
    "    \n",
    "    lr_model.compile(loss='binary_crossentropy', optimizer='sgd', metrics=['accuracy'])\n",
    "    \n",
    "    # Fit the model\n",
    "    lr_model_history = lr_model.fit(X_train, y_train, epochs=1)\n",
    "    \n",
    "    hist_loss.append(lr_model_history.history['loss'])"
   ]
  },
  {
   "cell_type": "code",
   "execution_count": 111,
   "metadata": {},
   "outputs": [
    {
     "data": {
      "text/html": [
       "<div>\n",
       "<style scoped>\n",
       "    .dataframe tbody tr th:only-of-type {\n",
       "        vertical-align: middle;\n",
       "    }\n",
       "\n",
       "    .dataframe tbody tr th {\n",
       "        vertical-align: top;\n",
       "    }\n",
       "\n",
       "    .dataframe thead th {\n",
       "        text-align: right;\n",
       "    }\n",
       "</style>\n",
       "<table border=\"1\" class=\"dataframe\">\n",
       "  <thead>\n",
       "    <tr style=\"text-align: right;\">\n",
       "      <th></th>\n",
       "      <th>lr</th>\n",
       "      <th>loss</th>\n",
       "    </tr>\n",
       "  </thead>\n",
       "  <tbody>\n",
       "    <tr>\n",
       "      <td>0</td>\n",
       "      <td>0.0878</td>\n",
       "      <td>[0.5844487518130469]</td>\n",
       "    </tr>\n",
       "    <tr>\n",
       "      <td>1</td>\n",
       "      <td>0.2753</td>\n",
       "      <td>[0.5861537114120462]</td>\n",
       "    </tr>\n",
       "    <tr>\n",
       "      <td>2</td>\n",
       "      <td>0.0459</td>\n",
       "      <td>[0.5868672542816619]</td>\n",
       "    </tr>\n",
       "    <tr>\n",
       "      <td>3</td>\n",
       "      <td>0.1407</td>\n",
       "      <td>[0.586923083639947]</td>\n",
       "    </tr>\n",
       "    <tr>\n",
       "      <td>4</td>\n",
       "      <td>0.0589</td>\n",
       "      <td>[0.5871187164608732]</td>\n",
       "    </tr>\n",
       "    <tr>\n",
       "      <td>5</td>\n",
       "      <td>0.4295</td>\n",
       "      <td>[0.5871951165767738]</td>\n",
       "    </tr>\n",
       "    <tr>\n",
       "      <td>6</td>\n",
       "      <td>0.1113</td>\n",
       "      <td>[0.587830776915371]</td>\n",
       "    </tr>\n",
       "    <tr>\n",
       "      <td>7</td>\n",
       "      <td>0.0002</td>\n",
       "      <td>[0.5879500086572769]</td>\n",
       "    </tr>\n",
       "    <tr>\n",
       "      <td>8</td>\n",
       "      <td>0.1477</td>\n",
       "      <td>[0.5885625279261416]</td>\n",
       "    </tr>\n",
       "    <tr>\n",
       "      <td>9</td>\n",
       "      <td>0.2423</td>\n",
       "      <td>[0.5891806595935933]</td>\n",
       "    </tr>\n",
       "  </tbody>\n",
       "</table>\n",
       "</div>"
      ],
      "text/plain": [
       "       lr                  loss\n",
       "0  0.0878  [0.5844487518130469]\n",
       "1  0.2753  [0.5861537114120462]\n",
       "2  0.0459  [0.5868672542816619]\n",
       "3  0.1407   [0.586923083639947]\n",
       "4  0.0589  [0.5871187164608732]\n",
       "5  0.4295  [0.5871951165767738]\n",
       "6  0.1113   [0.587830776915371]\n",
       "7  0.0002  [0.5879500086572769]\n",
       "8  0.1477  [0.5885625279261416]\n",
       "9  0.2423  [0.5891806595935933]"
      ]
     },
     "execution_count": 111,
     "metadata": {},
     "output_type": "execute_result"
    }
   ],
   "source": [
    "# Get the lr and loss Dataframe\n",
    "loss_lr = pd.DataFrame([lrs,hist_loss]).T  \n",
    "\n",
    "#Give the coloumn names\n",
    "loss_lr.columns=['lr', 'loss']\n",
    "\n",
    "#Sort the values and reset the index\n",
    "loss_lr=loss_lr.sort_values('loss').reset_index().drop('index',axis=1)\n",
    "loss_lr "
   ]
  },
  {
   "cell_type": "code",
   "execution_count": 112,
   "metadata": {},
   "outputs": [],
   "source": [
    "loss_lr['loss_val'] = loss_lr['loss'].str.get(0)"
   ]
  },
  {
   "cell_type": "code",
   "execution_count": 113,
   "metadata": {},
   "outputs": [],
   "source": [
    "loss_lr['lr']=loss_lr['lr'].astype('float')\n",
    "loss_lr['loss_val']=loss_lr['loss_val'].astype('float')"
   ]
  },
  {
   "cell_type": "code",
   "execution_count": 114,
   "metadata": {},
   "outputs": [],
   "source": [
    "loss_lr=loss_lr.sort_values(by='lr',axis=0,ascending=True)"
   ]
  },
  {
   "cell_type": "code",
   "execution_count": 115,
   "metadata": {},
   "outputs": [
    {
     "data": {
      "text/html": [
       "<div>\n",
       "<style scoped>\n",
       "    .dataframe tbody tr th:only-of-type {\n",
       "        vertical-align: middle;\n",
       "    }\n",
       "\n",
       "    .dataframe tbody tr th {\n",
       "        vertical-align: top;\n",
       "    }\n",
       "\n",
       "    .dataframe thead th {\n",
       "        text-align: right;\n",
       "    }\n",
       "</style>\n",
       "<table border=\"1\" class=\"dataframe\">\n",
       "  <thead>\n",
       "    <tr style=\"text-align: right;\">\n",
       "      <th></th>\n",
       "      <th>lr</th>\n",
       "      <th>loss</th>\n",
       "      <th>loss_val</th>\n",
       "    </tr>\n",
       "  </thead>\n",
       "  <tbody>\n",
       "    <tr>\n",
       "      <td>7</td>\n",
       "      <td>0.0002</td>\n",
       "      <td>[0.5879500086572769]</td>\n",
       "      <td>0.587950</td>\n",
       "    </tr>\n",
       "    <tr>\n",
       "      <td>2</td>\n",
       "      <td>0.0459</td>\n",
       "      <td>[0.5868672542816619]</td>\n",
       "      <td>0.586867</td>\n",
       "    </tr>\n",
       "    <tr>\n",
       "      <td>4</td>\n",
       "      <td>0.0589</td>\n",
       "      <td>[0.5871187164608732]</td>\n",
       "      <td>0.587119</td>\n",
       "    </tr>\n",
       "    <tr>\n",
       "      <td>0</td>\n",
       "      <td>0.0878</td>\n",
       "      <td>[0.5844487518130469]</td>\n",
       "      <td>0.584449</td>\n",
       "    </tr>\n",
       "    <tr>\n",
       "      <td>6</td>\n",
       "      <td>0.1113</td>\n",
       "      <td>[0.587830776915371]</td>\n",
       "      <td>0.587831</td>\n",
       "    </tr>\n",
       "    <tr>\n",
       "      <td>3</td>\n",
       "      <td>0.1407</td>\n",
       "      <td>[0.586923083639947]</td>\n",
       "      <td>0.586923</td>\n",
       "    </tr>\n",
       "    <tr>\n",
       "      <td>8</td>\n",
       "      <td>0.1477</td>\n",
       "      <td>[0.5885625279261416]</td>\n",
       "      <td>0.588563</td>\n",
       "    </tr>\n",
       "    <tr>\n",
       "      <td>9</td>\n",
       "      <td>0.2423</td>\n",
       "      <td>[0.5891806595935933]</td>\n",
       "      <td>0.589181</td>\n",
       "    </tr>\n",
       "    <tr>\n",
       "      <td>1</td>\n",
       "      <td>0.2753</td>\n",
       "      <td>[0.5861537114120462]</td>\n",
       "      <td>0.586154</td>\n",
       "    </tr>\n",
       "    <tr>\n",
       "      <td>5</td>\n",
       "      <td>0.4295</td>\n",
       "      <td>[0.5871951165767738]</td>\n",
       "      <td>0.587195</td>\n",
       "    </tr>\n",
       "  </tbody>\n",
       "</table>\n",
       "</div>"
      ],
      "text/plain": [
       "       lr                  loss  loss_val\n",
       "7  0.0002  [0.5879500086572769]  0.587950\n",
       "2  0.0459  [0.5868672542816619]  0.586867\n",
       "4  0.0589  [0.5871187164608732]  0.587119\n",
       "0  0.0878  [0.5844487518130469]  0.584449\n",
       "6  0.1113   [0.587830776915371]  0.587831\n",
       "3  0.1407   [0.586923083639947]  0.586923\n",
       "8  0.1477  [0.5885625279261416]  0.588563\n",
       "9  0.2423  [0.5891806595935933]  0.589181\n",
       "1  0.2753  [0.5861537114120462]  0.586154\n",
       "5  0.4295  [0.5871951165767738]  0.587195"
      ]
     },
     "execution_count": 115,
     "metadata": {},
     "output_type": "execute_result"
    }
   ],
   "source": [
    "loss_lr"
   ]
  },
  {
   "cell_type": "code",
   "execution_count": 117,
   "metadata": {},
   "outputs": [],
   "source": [
    "import matplotlib.pyplot as plt\n",
    "%matplotlib inline "
   ]
  },
  {
   "cell_type": "code",
   "execution_count": 118,
   "metadata": {},
   "outputs": [
    {
     "data": {
      "image/png": "[encoded data removed]",
      "text/plain": [
       "<Figure size 432x288 with 1 Axes>"
      ]
     },
     "metadata": {
      "needs_background": "light"
     },
     "output_type": "display_data"
    }
   ],
   "source": [
    "import matplotlib.pyplot as plt\n",
    "\n",
    "fig, ax = plt.subplots()\n",
    "ax.plot(list(loss_lr['lr'].values),list(loss_lr['loss_val'].values),marker='o')\n",
    "plt.xticks(loss_lr['lr'].values)\n",
    "fig.autofmt_xdate()\n",
    "plt.show()"
   ]
  },
  {
   "cell_type": "code",
   "execution_count": 119,
   "metadata": {},
   "outputs": [],
   "source": [
    "bst_lr_model = model_def(h_activation='tanh', o_activation='sigmoid', kernel_init='normal')"
   ]
  },
  {
   "cell_type": "code",
   "execution_count": 120,
   "metadata": {},
   "outputs": [
    {
     "name": "stdout",
     "output_type": "stream",
     "text": [
      "Model: \"sequential_31\"\n",
      "_________________________________________________________________\n",
      "Layer (type)                 Output Shape              Param #   \n",
      "=================================================================\n",
      "dense_79 (Dense)             (None, 35)                3465      \n",
      "_________________________________________________________________\n",
      "dense_80 (Dense)             (None, 15)                540       \n",
      "_________________________________________________________________\n",
      "dense_81 (Dense)             (None, 1)                 16        \n",
      "=================================================================\n",
      "Total params: 4,021\n",
      "Trainable params: 4,021\n",
      "Non-trainable params: 0\n",
      "_________________________________________________________________\n"
     ]
    }
   ],
   "source": [
    "bst_lr_model.summary()"
   ]
  },
  {
   "cell_type": "code",
   "execution_count": 121,
   "metadata": {},
   "outputs": [],
   "source": [
    "sgd = optimizers.SGD(lr=.0878)\n",
    "bst_lr_model.compile(loss='binary_crossentropy', optimizer=sgd, metrics=['accuracy'])"
   ]
  },
  {
   "cell_type": "code",
   "execution_count": 126,
   "metadata": {},
   "outputs": [
    {
     "name": "stdout",
     "output_type": "stream",
     "text": [
      "Epoch 1/10\n",
      "30139/30139 [==============================] - 1s 24us/step - loss: 0.3608 - accuracy: 0.8306\n",
      "Epoch 2/10\n",
      "30139/30139 [==============================] - 1s 25us/step - loss: 0.3606 - accuracy: 0.8309\n",
      "Epoch 3/10\n",
      "30139/30139 [==============================] - 1s 25us/step - loss: 0.3607 - accuracy: 0.8304\n",
      "Epoch 4/10\n",
      "30139/30139 [==============================] - 1s 25us/step - loss: 0.3607 - accuracy: 0.8308\n",
      "Epoch 5/10\n",
      "30139/30139 [==============================] - 1s 26us/step - loss: 0.3607 - accuracy: 0.8311\n",
      "Epoch 6/10\n",
      "30139/30139 [==============================] - 1s 24us/step - loss: 0.3605 - accuracy: 0.8312\n",
      "Epoch 7/10\n",
      "30139/30139 [==============================] - 1s 30us/step - loss: 0.3606 - accuracy: 0.8311\n",
      "Epoch 8/10\n",
      "30139/30139 [==============================] - 1s 24us/step - loss: 0.3604 - accuracy: 0.8299\n",
      "Epoch 9/10\n",
      "30139/30139 [==============================] - 1s 24us/step - loss: 0.3603 - accuracy: 0.8312\n",
      "Epoch 10/10\n",
      "30139/30139 [==============================] - 1s 25us/step - loss: 0.3603 - accuracy: 0.8298\n"
     ]
    }
   ],
   "source": [
    "bst_lr_model_history = bst_lr_model.fit(X_train, y_train, epochs=10, batch_size=64)"
   ]
  },
  {
   "cell_type": "code",
   "execution_count": 128,
   "metadata": {},
   "outputs": [],
   "source": [
    "pred_train_bst_lr = bst_lr_model.predict_classes(X_train)\n",
    "\n",
    "pred_test_bst_lr = bst_lr_model.predict_classes(X_test) "
   ]
  },
  {
   "cell_type": "code",
   "execution_count": 129,
   "metadata": {},
   "outputs": [
    {
     "name": "stdout",
     "output_type": "stream",
     "text": [
      "\n",
      "Confusion Matrix :\n",
      "[[21053  1580]\n",
      " [ 3507  3999]]\n",
      "\n",
      "Report : \n",
      "              precision    recall  f1-score   support\n",
      "\n",
      "           0       0.86      0.93      0.89     22633\n",
      "           1       0.72      0.53      0.61      7506\n",
      "\n",
      "    accuracy                           0.83     30139\n",
      "   macro avg       0.79      0.73      0.75     30139\n",
      "weighted avg       0.82      0.83      0.82     30139\n",
      "\n",
      "\n",
      "Accuracy Score : 0.8312153687912671\n",
      "------------------------------------------------------------------\n",
      "\n",
      "Confusion Matrix :\n",
      "[[10529   826]\n",
      " [ 1763  1937]]\n",
      "\n",
      "Report : \n",
      "              precision    recall  f1-score   support\n",
      "\n",
      "           0       0.86      0.93      0.89     11355\n",
      "           1       0.70      0.52      0.60      3700\n",
      "\n",
      "    accuracy                           0.83     15055\n",
      "   macro avg       0.78      0.73      0.74     15055\n",
      "weighted avg       0.82      0.83      0.82     15055\n",
      "\n",
      "\n",
      "Accuracy Score : 0.8280305546330123\n",
      "------------------------------------------------------------------\n"
     ]
    }
   ],
   "source": [
    "model_evaluation(y_train, pred_train_bst_lr)\n",
    "\n",
    "model_evaluation(y_test, pred_test_bst_lr)"
   ]
  },
  {
   "cell_type": "code",
   "execution_count": 130,
   "metadata": {},
   "outputs": [],
   "source": [
    "batch_sizes = [64, 128]"
   ]
  },
  {
   "cell_type": "code",
   "execution_count": 131,
   "metadata": {},
   "outputs": [
    {
     "name": "stdout",
     "output_type": "stream",
     "text": [
      "Epoch 1/10\n",
      "30139/30139 [==============================] - 1s 32us/step - loss: 0.4909 - accuracy: 0.7752\n",
      "Epoch 2/10\n",
      "30139/30139 [==============================] - 1s 25us/step - loss: 0.3833 - accuracy: 0.8225\n",
      "Epoch 3/10\n",
      "30139/30139 [==============================] - 1s 27us/step - loss: 0.3745 - accuracy: 0.8249\n",
      "Epoch 4/10\n",
      "30139/30139 [==============================] - 1s 25us/step - loss: 0.3717 - accuracy: 0.8258\n",
      "Epoch 5/10\n",
      "30139/30139 [==============================] - 1s 25us/step - loss: 0.3711 - accuracy: 0.8264\n",
      "Epoch 6/10\n",
      "30139/30139 [==============================] - 1s 34us/step - loss: 0.3699 - accuracy: 0.8264\n",
      "Epoch 7/10\n",
      "30139/30139 [==============================] - 1s 34us/step - loss: 0.3700 - accuracy: 0.8263\n",
      "Epoch 8/10\n",
      "30139/30139 [==============================] - 1s 39us/step - loss: 0.3698 - accuracy: 0.8253\n",
      "Epoch 9/10\n",
      "30139/30139 [==============================] - ETA: 0s - loss: 0.3702 - accuracy: 0.82 - 1s 27us/step - loss: 0.3694 - accuracy: 0.8271\n",
      "Epoch 10/10\n",
      "30139/30139 [==============================] - 1s 24us/step - loss: 0.3693 - accuracy: 0.8263\n",
      "Epoch 1/10\n",
      "30139/30139 [==============================] - 0s 16us/step - loss: 0.5657 - accuracy: 0.7493\n",
      "Epoch 2/10\n",
      "30139/30139 [==============================] - 0s 14us/step - loss: 0.4317 - accuracy: 0.7933\n",
      "Epoch 3/10\n",
      "30139/30139 [==============================] - 0s 13us/step - loss: 0.3864 - accuracy: 0.8225\n",
      "Epoch 4/10\n",
      "30139/30139 [==============================] - 0s 13us/step - loss: 0.3774 - accuracy: 0.8238\n",
      "Epoch 5/10\n",
      "30139/30139 [==============================] - 0s 16us/step - loss: 0.3737 - accuracy: 0.8262\n",
      "Epoch 6/10\n",
      "30139/30139 [==============================] - 0s 15us/step - loss: 0.3718 - accuracy: 0.8257\n",
      "Epoch 7/10\n",
      "30139/30139 [==============================] - 1s 19us/step - loss: 0.3707 - accuracy: 0.8268\n",
      "Epoch 8/10\n",
      "30139/30139 [==============================] - 1s 17us/step - loss: 0.3693 - accuracy: 0.8280\n",
      "Epoch 9/10\n",
      "30139/30139 [==============================] - 0s 14us/step - loss: 0.3692 - accuracy: 0.8278\n",
      "Epoch 10/10\n",
      "30139/30139 [==============================] - 0s 13us/step - loss: 0.3689 - accuracy: 0.8263\n"
     ]
    }
   ],
   "source": [
    "history=[]\n",
    "\n",
    "for batch_size in batch_sizes:\n",
    "        \n",
    "    bs_model = model_def(h_activation='tanh', o_activation='sigmoid', kernel_init='normal')\n",
    "    \n",
    "     # Compile model\n",
    "    sgd = optimizers.SGD(lr=.0878)\n",
    "    bs_model.compile(loss='binary_crossentropy', optimizer=sgd, metrics=['accuracy'])\n",
    "    \n",
    "    #Fit the model\n",
    "    bs_model_history = bs_model.fit(X_train, y_train, batch_size=batch_size, epochs=10)\n",
    "    \n",
    "    history.append(bs_model_history)"
   ]
  },
  {
   "cell_type": "code",
   "execution_count": 135,
   "metadata": {},
   "outputs": [
    {
     "data": {
      "image/png": "[encoded data removed]",
      "text/plain": [
       "<Figure size 432x288 with 1 Axes>"
      ]
     },
     "metadata": {
      "needs_background": "light"
     },
     "output_type": "display_data"
    }
   ],
   "source": [
    "for i in range(0, len(history)):\n",
    "    plt.plot(history[i].history['loss'])\n",
    "plt.title('Model Train Loss')\n",
    "plt.ylabel('loss')\n",
    "plt.xlabel('epochs')  \n",
    "plt.legend(batch_sizes, loc='upper right')\n",
    "plt.show()"
   ]
  },
  {
   "cell_type": "code",
   "execution_count": 136,
   "metadata": {},
   "outputs": [],
   "source": [
    "bst_bs_model = model_def(h_activation='tanh', o_activation='sigmoid', kernel_init='normal')"
   ]
  },
  {
   "cell_type": "code",
   "execution_count": 137,
   "metadata": {},
   "outputs": [],
   "source": [
    "sgd = optimizers.SGD(lr=.0878)\n",
    "bst_bs_model.compile(loss='binary_crossentropy', optimizer=sgd, metrics=['accuracy'])"
   ]
  },
  {
   "cell_type": "code",
   "execution_count": 138,
   "metadata": {},
   "outputs": [
    {
     "name": "stdout",
     "output_type": "stream",
     "text": [
      "Epoch 1/5\n",
      "30139/30139 [==============================] - 0s 15us/step - loss: 0.5563 - accuracy: 0.7487\n",
      "Epoch 2/5\n",
      "30139/30139 [==============================] - 0s 13us/step - loss: 0.4166 - accuracy: 0.8043\n",
      "Epoch 3/5\n",
      "30139/30139 [==============================] - 0s 13us/step - loss: 0.3820 - accuracy: 0.8237\n",
      "Epoch 4/5\n",
      "30139/30139 [==============================] - 0s 13us/step - loss: 0.3749 - accuracy: 0.8240\n",
      "Epoch 5/5\n",
      "30139/30139 [==============================] - 0s 13us/step - loss: 0.3721 - accuracy: 0.8260\n"
     ]
    }
   ],
   "source": [
    "bst_bs_model_history = bst_bs_model.fit(X_train, y_train, epochs=5, batch_size=128)"
   ]
  },
  {
   "cell_type": "code",
   "execution_count": 139,
   "metadata": {},
   "outputs": [],
   "source": [
    "pred_train_bst_bs = bst_bs_model.predict_classes(X_train)\n",
    "\n",
    "pred_test_bst_bs = bst_bs_model.predict_classes(X_test) "
   ]
  },
  {
   "cell_type": "code",
   "execution_count": 140,
   "metadata": {},
   "outputs": [
    {
     "name": "stdout",
     "output_type": "stream",
     "text": [
      "\n",
      "Confusion Matrix :\n",
      "[[20098  2535]\n",
      " [ 2835  4671]]\n",
      "\n",
      "Report : \n",
      "              precision    recall  f1-score   support\n",
      "\n",
      "           0       0.88      0.89      0.88     22633\n",
      "           1       0.65      0.62      0.63      7506\n",
      "\n",
      "    accuracy                           0.82     30139\n",
      "   macro avg       0.76      0.76      0.76     30139\n",
      "weighted avg       0.82      0.82      0.82     30139\n",
      "\n",
      "\n",
      "Accuracy Score : 0.8218255416569893\n",
      "------------------------------------------------------------------\n",
      "\n",
      "Confusion Matrix :\n",
      "[[10070  1285]\n",
      " [ 1407  2293]]\n",
      "\n",
      "Report : \n",
      "              precision    recall  f1-score   support\n",
      "\n",
      "           0       0.88      0.89      0.88     11355\n",
      "           1       0.64      0.62      0.63      3700\n",
      "\n",
      "    accuracy                           0.82     15055\n",
      "   macro avg       0.76      0.75      0.76     15055\n",
      "weighted avg       0.82      0.82      0.82     15055\n",
      "\n",
      "\n",
      "Accuracy Score : 0.8211889737628695\n",
      "------------------------------------------------------------------\n"
     ]
    }
   ],
   "source": [
    "model_evaluation(y_train, pred_train_bst_bs)\n",
    "\n",
    "model_evaluation(y_test, pred_test_bst_bs)"
   ]
  },
  {
   "cell_type": "code",
   "execution_count": 141,
   "metadata": {},
   "outputs": [],
   "source": [
    "from keras.regularizers import l1"
   ]
  },
  {
   "cell_type": "code",
   "execution_count": 142,
   "metadata": {},
   "outputs": [],
   "source": [
    "mlp_model5 = Sequential()\n",
    "\n",
    "mlp_model5.add(Dense(25, input_dim=98, activation='tanh', kernel_initializer='normal',kernel_regularizer=l1(0.001), \n",
    "                     bias_regularizer=l1(0.001)))\n",
    "mlp_model5.add(Dense(15, activation='tanh', kernel_initializer='normal',kernel_regularizer=l1(0.001), \n",
    "                     bias_regularizer=l1(0.001)))\n",
    "mlp_model5.add(Dense(1, activation='sigmoid', kernel_initializer='normal'))\n"
   ]
  },
  {
   "cell_type": "code",
   "execution_count": 146,
   "metadata": {},
   "outputs": [
    {
     "name": "stdout",
     "output_type": "stream",
     "text": [
      "Epoch 1/5\n",
      "30139/30139 [==============================] - 1s 27us/step - loss: 0.4063 - accuracy: 0.8251\n",
      "Epoch 2/5\n",
      "30139/30139 [==============================] - 1s 24us/step - loss: 0.4045 - accuracy: 0.8247\n",
      "Epoch 3/5\n",
      "30139/30139 [==============================] - 1s 25us/step - loss: 0.4027 - accuracy: 0.8250\n",
      "Epoch 4/5\n",
      "30139/30139 [==============================] - 1s 25us/step - loss: 0.4012 - accuracy: 0.8261\n",
      "Epoch 5/5\n",
      "30139/30139 [==============================] - 1s 27us/step - loss: 0.3998 - accuracy: 0.8260\n"
     ]
    }
   ],
   "source": [
    "mlp_model5.compile(loss='binary_crossentropy', optimizer='sgd', metrics=['accuracy'])\n",
    "\n",
    "model5_history = mlp_model5.fit(X_train, y_train, epochs=5, batch_size=64)"
   ]
  },
  {
   "cell_type": "code",
   "execution_count": 147,
   "metadata": {},
   "outputs": [],
   "source": [
    "pred_train_model5 = mlp_model5.predict_classes(X_train)\n",
    "\n",
    "pred_test_model5 = mlp_model5.predict_classes(X_test) "
   ]
  },
  {
   "cell_type": "code",
   "execution_count": 148,
   "metadata": {},
   "outputs": [
    {
     "name": "stdout",
     "output_type": "stream",
     "text": [
      "\n",
      "Confusion Matrix :\n",
      "[[20908  1725]\n",
      " [ 3507  3999]]\n",
      "\n",
      "Report : \n",
      "              precision    recall  f1-score   support\n",
      "\n",
      "           0       0.86      0.92      0.89     22633\n",
      "           1       0.70      0.53      0.60      7506\n",
      "\n",
      "    accuracy                           0.83     30139\n",
      "   macro avg       0.78      0.73      0.75     30139\n",
      "weighted avg       0.82      0.83      0.82     30139\n",
      "\n",
      "\n",
      "Accuracy Score : 0.8264043266199941\n",
      "------------------------------------------------------------------\n",
      "\n",
      "Confusion Matrix :\n",
      "[[10485   870]\n",
      " [ 1725  1975]]\n",
      "\n",
      "Report : \n",
      "              precision    recall  f1-score   support\n",
      "\n",
      "           0       0.86      0.92      0.89     11355\n",
      "           1       0.69      0.53      0.60      3700\n",
      "\n",
      "    accuracy                           0.83     15055\n",
      "   macro avg       0.78      0.73      0.75     15055\n",
      "weighted avg       0.82      0.83      0.82     15055\n",
      "\n",
      "\n",
      "Accuracy Score : 0.8276320159415477\n",
      "------------------------------------------------------------------\n"
     ]
    }
   ],
   "source": [
    "model_evaluation(y_train, pred_train_model5)\n",
    "\n",
    "model_evaluation(y_test, pred_test_model5) "
   ]
  },
  {
   "cell_type": "code",
   "execution_count": null,
   "metadata": {},
   "outputs": [],
   "source": []
  }
 ],
 "metadata": {
  "kernelspec": {
   "display_name": "Python 3",
   "language": "python",
   "name": "python3"
  },
  "language_info": {
   "codemirror_mode": {
    "name": "ipython",
    "version": 3
   },
   "file_extension": ".py",
   "mimetype": "text/x-python",
   "name": "python",
   "nbconvert_exporter": "python",
   "pygments_lexer": "ipython3",
   "version": "3.7.6"
  }
 },
 "nbformat": 4,
 "nbformat_minor": 4
}
